{
 "cells": [
  {
   "cell_type": "code",
   "execution_count": 8,
   "metadata": {},
   "outputs": [],
   "source": [
    "import transformers\n",
    "import datasets\n",
    "import json\n",
    "import numpy as np"
   ]
  },
  {
   "cell_type": "code",
   "execution_count": 9,
   "metadata": {},
   "outputs": [
    {
     "name": "stderr",
     "output_type": "stream",
     "text": [
      "Found cached dataset squad (/home/s2010433/.cache/huggingface/datasets/squad/plain_text/1.0.0/d6ec3ceb99ca480ce37cdd35555d6cb2511d223b9150cce08a837ef62ffea453)\n",
      "100%|██████████| 2/2 [00:00<00:00, 152.79it/s]"
     ]
    },
    {
     "name": "stdout",
     "output_type": "stream",
     "text": [
      "DatasetDict({\n",
      "    train: Dataset({\n",
      "        features: ['id', 'title', 'context', 'question', 'answers'],\n",
      "        num_rows: 87599\n",
      "    })\n",
      "    validation: Dataset({\n",
      "        features: ['id', 'title', 'context', 'question', 'answers'],\n",
      "        num_rows: 10570\n",
      "    })\n",
      "})\n",
      "{'id': '5733be284776f41900661182', 'title': 'University_of_Notre_Dame', 'context': 'Architecturally, the school has a Catholic character. Atop the Main Building\\'s gold dome is a golden statue of the Virgin Mary. Immediately in front of the Main Building and facing it, is a copper statue of Christ with arms upraised with the legend \"Venite Ad Me Omnes\". Next to the Main Building is the Basilica of the Sacred Heart. Immediately behind the basilica is the Grotto, a Marian place of prayer and reflection. It is a replica of the grotto at Lourdes, France where the Virgin Mary reputedly appeared to Saint Bernadette Soubirous in 1858. At the end of the main drive (and in a direct line that connects through 3 statues and the Gold Dome), is a simple, modern stone statue of Mary.', 'question': 'To whom did the Virgin Mary allegedly appear in 1858 in Lourdes France?', 'answers': {'text': ['Saint Bernadette Soubirous'], 'answer_start': [515]}}\n"
     ]
    },
    {
     "name": "stderr",
     "output_type": "stream",
     "text": [
      "\n"
     ]
    }
   ],
   "source": [
    "# Load squad dataset\n",
    "squad = datasets.load_dataset(\"squad\")\n",
    "print(squad)\n",
    "print(squad[\"train\"][0])"
   ]
  },
  {
   "cell_type": "code",
   "execution_count": 3,
   "metadata": {},
   "outputs": [
    {
     "name": "stdout",
     "output_type": "stream",
     "text": [
      "98169 98169\n"
     ]
    }
   ],
   "source": [
    "# Extract question and context from each item in the squad\n",
    "questions = [item[\"question\"] for item in squad[\"train\"]]\n",
    "contexts = [item[\"context\"] for item in squad[\"train\"]]\n",
    "\n",
    "questions.extend([item[\"question\"] for item in squad[\"validation\"]])\n",
    "contexts.extend([item[\"context\"] for item in squad[\"validation\"]])\n",
    "\n",
    "print(len(questions), len(contexts))"
   ]
  },
  {
   "cell_type": "code",
   "execution_count": 4,
   "metadata": {},
   "outputs": [
    {
     "name": "stdout",
     "output_type": "stream",
     "text": [
      "Train size:  88000\n",
      "Test size:  22000\n"
     ]
    }
   ],
   "source": [
    "pair_data = []\n",
    "\n",
    "n_samples = 10000\n",
    "\n",
    "questions = questions[:n_samples]\n",
    "contexts = contexts[:n_samples]\n",
    "\n",
    "def create_non_relevants(index, n=10):\n",
    "    other_indexs = [i for i in range(len(questions)) if i != index]\n",
    "    return [i for i in np.random.choice(other_indexs, n)]\n",
    "\n",
    "# For each questions, create 10 non relevant contexts\n",
    "for index, question in enumerate(questions):\n",
    "    pair_data.append({\"question\": question, \"context\": contexts[index], \"label\": 1})\n",
    "    non_relevants_indexs = create_non_relevants(index)\n",
    "    for non_relevant_index in non_relevants_indexs:\n",
    "        pair_data.append({\"question\": question, \"context\": contexts[non_relevant_index], \"label\": 0})\n",
    "\n",
    "# Shuffle and split train and test\n",
    "test_size = 0.2\n",
    "np.random.shuffle(pair_data)\n",
    "train_size = int(len(pair_data) * (1 - test_size))\n",
    "train_data = pair_data[:train_size]\n",
    "test_data = pair_data[train_size:]\n",
    "\n",
    "# Save to jsonl\n",
    "with open(\"train.jsonl\", \"w\") as f:\n",
    "    for item in train_data:\n",
    "        f.write(json.dumps(item) + \"\\n\")\n",
    "\n",
    "with open(\"test.jsonl\", \"w\") as f:\n",
    "    for item in test_data:\n",
    "        f.write(json.dumps(item) + \"\\n\")\n",
    "\n",
    "print('Train size: ', len(train_data))\n",
    "print('Test size: ', len(test_data))"
   ]
  },
  {
   "cell_type": "code",
   "execution_count": 10,
   "metadata": {},
   "outputs": [
    {
     "name": "stdout",
     "output_type": "stream",
     "text": [
      "<s>Hello, my dog is cute</s></s>Hello, my cat is amazing</s>\n"
     ]
    }
   ],
   "source": [
    "from transformers import AutoTokenizer, AutoModelForSequenceClassification\n",
    "\n",
    "tokenizer = AutoTokenizer.from_pretrained(\"roberta-base\")\n",
    "\n",
    "encoded = tokenizer(\"Hello, my dog is cute\", \"Hello, my cat is amazing\", return_tensors=\"pt\")\n",
    "\n",
    "decoded = tokenizer.decode(encoded[\"input_ids\"][0])\n",
    "print(decoded)\n"
   ]
  },
  {
   "cell_type": "code",
   "execution_count": 11,
   "metadata": {},
   "outputs": [
    {
     "name": "stderr",
     "output_type": "stream",
     "text": [
      "Using custom data configuration default-3bb98a7191ef0a5e\n",
      "Found cached dataset json (/home/s2010433/.cache/huggingface/datasets/json/default-3bb98a7191ef0a5e/0.0.0/e6070c77f18f01a5ad4551a8b7edfba20b8438b7cad4d94e6ad9378022ce4aab)\n",
      "100%|██████████| 2/2 [00:00<00:00, 12.46it/s]\n",
      "100%|██████████| 88/88 [00:18<00:00,  4.86ba/s]\n",
      "100%|██████████| 22/22 [00:04<00:00,  4.99ba/s]"
     ]
    },
    {
     "name": "stdout",
     "output_type": "stream",
     "text": [
      "DatasetDict({\n",
      "    train: Dataset({\n",
      "        features: ['question', 'context', 'label', 'input_ids', 'attention_mask'],\n",
      "        num_rows: 88000\n",
      "    })\n",
      "    test: Dataset({\n",
      "        features: ['question', 'context', 'label', 'input_ids', 'attention_mask'],\n",
      "        num_rows: 22000\n",
      "    })\n",
      "})\n"
     ]
    },
    {
     "name": "stderr",
     "output_type": "stream",
     "text": [
      "\n"
     ]
    }
   ],
   "source": [
    "def preprocess_function(batch):\n",
    "    return tokenizer(batch[\"question\"], batch[\"context\"], truncation=True, padding=\"max_length\")\n",
    "\n",
    "dataset = datasets.load_dataset(\"json\", data_files={\"train\": \"train.jsonl\", \"test\": \"test.jsonl\"})\n",
    "tokenized_data = dataset.map(preprocess_function, batched=True)\n",
    "print(tokenized_data)"
   ]
  },
  {
   "cell_type": "code",
   "execution_count": 12,
   "metadata": {},
   "outputs": [
    {
     "data": {
      "image/png": "[encoded data removed]",
      "text/plain": [
       "<Figure size 640x480 with 1 Axes>"
      ]
     },
     "metadata": {},
     "output_type": "display_data"
    }
   ],
   "source": [
    "question_and_context = []\n",
    "\n",
    "for item in dataset[\"train\"]:\n",
    "    question_and_context.append(item[\"question\"] + \" \" + item[\"context\"])\n",
    "\n",
    "# Visualize the distribution of the length of the questions and contexts\n",
    "import matplotlib.pyplot as plt\n",
    "plt.hist([len(item.split()) for item in question_and_context], bins=100)\n",
    "plt.show()"
   ]
  },
  {
   "cell_type": "code",
   "execution_count": null,
   "metadata": {},
   "outputs": [],
   "source": [
    "def compute_metrics(eval_pred):\n",
    "    f1_score = datasets.load_metric(\"f1\")\n",
    "    logits, labels = eval_pred\n",
    "    predictions = np.argmax(logits, axis=-1)\n",
    "    f1_score.add_batch(predictions=predictions, references=labels)\n",
    "    return f1_score.compute()\n",
    "\n",
    "from transformers import Trainer, TrainingArguments\n",
    "\n",
    "model = AutoModelForSequenceClassification.from_pretrained(\"roberta-base\", num_labels=2)\n",
    "\n",
    "training_args = TrainingArguments(\n",
    "    output_dir=\"./results\",          # output directory\n",
    "    num_train_epochs=3,              # total # of training epochs\n",
    "    per_device_train_batch_size=16,  # batch size per device during training\n",
    "    per_device_eval_batch_size=64,   # batch size for evaluation\n",
    "    warmup_steps=500,                # number of warmup steps for learning rate scheduler\n",
    "    weight_decay=0.01,               # strength of weight decay\n",
    "    logging_dir='./logs',            # directory for storing logs\n",
    "    logging_steps=10,\n",
    ")\n",
    "\n",
    "trainer = Trainer(\n",
    "    model=model,                         # the instantiated 🤗 Transformers model to be trained\n",
    "    args=training_args,                  # training arguments, defined above\n",
    "    train_dataset=tokenized_data[\"train\"],         # training dataset\n",
    "    eval_dataset=tokenized_data[\"test\"],           # evaluation dataset\n",
    "    compute_metrics=compute_metrics,               # the callback that computes metrics of interest\n",
    ")\n",
    "\n",
    "trainer.train()\n",
    "\n",
    "trainer.evaluate()"
   ]
  },
  {
   "cell_type": "code",
   "execution_count": null,
   "metadata": {},
   "outputs": [],
   "source": []
  }
 ],
 "metadata": {
  "kernelspec": {
   "display_name": "Python 3.9.15 (conda)",
   "language": "python",
   "name": "python3"
  },
  "language_info": {
   "codemirror_mode": {
    "name": "ipython",
    "version": 3
   },
   "file_extension": ".py",
   "mimetype": "text/x-python",
   "name": "python",
   "nbconvert_exporter": "python",
   "pygments_lexer": "ipython3",
   "version": "3.9.15"
  },
  "orig_nbformat": 4,
  "vscode": {
   "interpreter": {
    "hash": "b5747e3a274c8ed75faa5e50cac86479fcf548cf35dfa103888d96cce3589e74"
   }
  }
 },
 "nbformat": 4,
 "nbformat_minor": 2
}
